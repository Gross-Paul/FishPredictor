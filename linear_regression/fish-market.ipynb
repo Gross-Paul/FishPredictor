{
 "cells": [
  {
   "cell_type": "code",
   "execution_count": 595,
   "metadata": {},
   "outputs": [],
   "source": [
    "import pandas as pd\n",
    "import numpy as np\n",
    "import matplotlib.pyplot as plt\n",
    "from numpy.linalg import inv"
   ]
  },
  {
   "cell_type": "code",
   "execution_count": 596,
   "metadata": {},
   "outputs": [],
   "source": [
    "df = pd.read_csv(\"../datasets/Fish.csv\")"
   ]
  },
  {
   "cell_type": "code",
   "execution_count": 597,
   "metadata": {
    "scrolled": false
   },
   "outputs": [
    {
     "data": {
      "text/html": [
       "<div>\n",
       "<style scoped>\n",
       "    .dataframe tbody tr th:only-of-type {\n",
       "        vertical-align: middle;\n",
       "    }\n",
       "\n",
       "    .dataframe tbody tr th {\n",
       "        vertical-align: top;\n",
       "    }\n",
       "\n",
       "    .dataframe thead th {\n",
       "        text-align: right;\n",
       "    }\n",
       "</style>\n",
       "<table border=\"1\" class=\"dataframe\">\n",
       "  <thead>\n",
       "    <tr style=\"text-align: right;\">\n",
       "      <th></th>\n",
       "      <th>Weight</th>\n",
       "      <th>Length1</th>\n",
       "      <th>Length2</th>\n",
       "      <th>Length3</th>\n",
       "      <th>Height</th>\n",
       "      <th>Width</th>\n",
       "    </tr>\n",
       "    <tr>\n",
       "      <th>Species</th>\n",
       "      <th></th>\n",
       "      <th></th>\n",
       "      <th></th>\n",
       "      <th></th>\n",
       "      <th></th>\n",
       "      <th></th>\n",
       "    </tr>\n",
       "  </thead>\n",
       "  <tbody>\n",
       "    <tr>\n",
       "      <th>Bream</th>\n",
       "      <td>35</td>\n",
       "      <td>35</td>\n",
       "      <td>35</td>\n",
       "      <td>35</td>\n",
       "      <td>35</td>\n",
       "      <td>35</td>\n",
       "    </tr>\n",
       "    <tr>\n",
       "      <th>Parkki</th>\n",
       "      <td>11</td>\n",
       "      <td>11</td>\n",
       "      <td>11</td>\n",
       "      <td>11</td>\n",
       "      <td>11</td>\n",
       "      <td>11</td>\n",
       "    </tr>\n",
       "    <tr>\n",
       "      <th>Perch</th>\n",
       "      <td>56</td>\n",
       "      <td>56</td>\n",
       "      <td>56</td>\n",
       "      <td>56</td>\n",
       "      <td>56</td>\n",
       "      <td>56</td>\n",
       "    </tr>\n",
       "    <tr>\n",
       "      <th>Pike</th>\n",
       "      <td>17</td>\n",
       "      <td>17</td>\n",
       "      <td>17</td>\n",
       "      <td>17</td>\n",
       "      <td>17</td>\n",
       "      <td>17</td>\n",
       "    </tr>\n",
       "    <tr>\n",
       "      <th>Roach</th>\n",
       "      <td>20</td>\n",
       "      <td>20</td>\n",
       "      <td>20</td>\n",
       "      <td>20</td>\n",
       "      <td>20</td>\n",
       "      <td>20</td>\n",
       "    </tr>\n",
       "    <tr>\n",
       "      <th>Smelt</th>\n",
       "      <td>14</td>\n",
       "      <td>14</td>\n",
       "      <td>14</td>\n",
       "      <td>14</td>\n",
       "      <td>14</td>\n",
       "      <td>14</td>\n",
       "    </tr>\n",
       "    <tr>\n",
       "      <th>Whitefish</th>\n",
       "      <td>6</td>\n",
       "      <td>6</td>\n",
       "      <td>6</td>\n",
       "      <td>6</td>\n",
       "      <td>6</td>\n",
       "      <td>6</td>\n",
       "    </tr>\n",
       "  </tbody>\n",
       "</table>\n",
       "</div>"
      ],
      "text/plain": [
       "           Weight  Length1  Length2  Length3  Height  Width\n",
       "Species                                                    \n",
       "Bream          35       35       35       35      35     35\n",
       "Parkki         11       11       11       11      11     11\n",
       "Perch          56       56       56       56      56     56\n",
       "Pike           17       17       17       17      17     17\n",
       "Roach          20       20       20       20      20     20\n",
       "Smelt          14       14       14       14      14     14\n",
       "Whitefish       6        6        6        6       6      6"
      ]
     },
     "execution_count": 597,
     "metadata": {},
     "output_type": "execute_result"
    }
   ],
   "source": [
    "df.groupby([\"Species\"]).count()\n",
    "\n",
    "\n",
    "#\"Perch\""
   ]
  },
  {
   "cell_type": "code",
   "execution_count": 598,
   "metadata": {
    "scrolled": true
   },
   "outputs": [
    {
     "name": "stdout",
     "output_type": "stream",
     "text": [
      "     Weight  Length1  Length2  Length3   Height   Width\n",
      "72      5.9      7.5      8.4      8.8   2.1120  1.4080\n",
      "73     32.0     12.5     13.7     14.7   3.5280  1.9992\n",
      "74     40.0     13.8     15.0     16.0   3.8240  2.4320\n",
      "75     51.5     15.0     16.2     17.2   4.5924  2.6316\n",
      "76     70.0     15.7     17.4     18.5   4.5880  2.9415\n",
      "77    100.0     16.2     18.0     19.2   5.2224  3.3216\n",
      "78     78.0     16.8     18.7     19.4   5.1992  3.1234\n",
      "79     80.0     17.2     19.0     20.2   5.6358  3.0502\n",
      "80     85.0     17.8     19.6     20.8   5.1376  3.0368\n",
      "81     85.0     18.2     20.0     21.0   5.0820  2.7720\n",
      "82    110.0     19.0     21.0     22.5   5.6925  3.5550\n",
      "83    115.0     19.0     21.0     22.5   5.9175  3.3075\n",
      "84    125.0     19.0     21.0     22.5   5.6925  3.6675\n",
      "85    130.0     19.3     21.3     22.8   6.3840  3.5340\n",
      "86    120.0     20.0     22.0     23.5   6.1100  3.4075\n",
      "87    120.0     20.0     22.0     23.5   5.6400  3.5250\n",
      "88    130.0     20.0     22.0     23.5   6.1100  3.5250\n",
      "89    135.0     20.0     22.0     23.5   5.8750  3.5250\n",
      "90    110.0     20.0     22.0     23.5   5.5225  3.9950\n",
      "91    130.0     20.5     22.5     24.0   5.8560  3.6240\n",
      "92    150.0     20.5     22.5     24.0   6.7920  3.6240\n",
      "93    145.0     20.7     22.7     24.2   5.9532  3.6300\n",
      "94    150.0     21.0     23.0     24.5   5.2185  3.6260\n",
      "95    170.0     21.5     23.5     25.0   6.2750  3.7250\n",
      "96    225.0     22.0     24.0     25.5   7.2930  3.7230\n",
      "97    145.0     22.0     24.0     25.5   6.3750  3.8250\n",
      "98    188.0     22.6     24.6     26.2   6.7334  4.1658\n",
      "99    180.0     23.0     25.0     26.5   6.4395  3.6835\n",
      "100   197.0     23.5     25.6     27.0   6.5610  4.2390\n",
      "101   218.0     25.0     26.5     28.0   7.1680  4.1440\n",
      "102   300.0     25.2     27.3     28.7   8.3230  5.1373\n",
      "103   260.0     25.4     27.5     28.9   7.1672  4.3350\n",
      "104   265.0     25.4     27.5     28.9   7.0516  4.3350\n",
      "105   250.0     25.4     27.5     28.9   7.2828  4.5662\n",
      "106   250.0     25.9     28.0     29.4   7.8204  4.2042\n",
      "107   300.0     26.9     28.7     30.1   7.5852  4.6354\n",
      "108   320.0     27.8     30.0     31.6   7.6156  4.7716\n",
      "109   514.0     30.5     32.8     34.0  10.0300  6.0180\n",
      "110   556.0     32.0     34.5     36.5  10.2565  6.3875\n",
      "111   840.0     32.5     35.0     37.3  11.4884  7.7957\n",
      "112   685.0     34.0     36.5     39.0  10.8810  6.8640\n",
      "113   700.0     34.0     36.0     38.3  10.6091  6.7408\n",
      "114   700.0     34.5     37.0     39.4  10.8350  6.2646\n",
      "115   690.0     34.6     37.0     39.3  10.5717  6.3666\n",
      "116   900.0     36.5     39.0     41.4  11.1366  7.4934\n",
      "117   650.0     36.5     39.0     41.4  11.1366  6.0030\n",
      "118   820.0     36.6     39.0     41.3  12.4313  7.3514\n",
      "119   850.0     36.9     40.0     42.3  11.9286  7.1064\n",
      "120   900.0     37.0     40.0     42.5  11.7300  7.2250\n",
      "121  1015.0     37.0     40.0     42.4  12.3808  7.4624\n",
      "122   820.0     37.1     40.0     42.5  11.1350  6.6300\n",
      "123  1100.0     39.0     42.0     44.6  12.8002  6.8684\n",
      "124  1000.0     39.8     43.0     45.2  11.9328  7.2772\n",
      "125  1100.0     40.1     43.0     45.5  12.5125  7.4165\n",
      "126  1000.0     40.2     43.5     46.0  12.6040  8.1420\n",
      "127  1000.0     41.1     44.0     46.6  12.4888  7.5958\n"
     ]
    }
   ],
   "source": [
    "df_perch = df.loc[ df[\"Species\"] == \"Perch\"]\n",
    "df_perch = df_perch.drop([\"Species\"],axis=1)\n",
    "#df_perch.insert(0, \"Control\", np.ones(56), True)\n",
    "\n",
    "print(df_perch)\n",
    "\n"
   ]
  },
  {
   "cell_type": "code",
   "execution_count": 612,
   "metadata": {
    "scrolled": true
   },
   "outputs": [
    {
     "name": "stdout",
     "output_type": "stream",
     "text": [
      "[347.61771724   8.56157226   9.021668     9.52950851   2.87817691\n",
      "   1.7746262 ] [382.23928571  25.73571429  27.89285714  29.57142857   7.86186964\n",
      "   4.74572321]\n",
      "(6,)\n",
      "    Control         0         1         2         3         4         5\n",
      "0       1.0 -1.082624 -2.129949 -2.160671 -2.179696 -1.997747 -1.880804\n",
      "1       1.0 -1.007542 -1.545944 -1.573197 -1.560566 -1.505769 -1.547663\n",
      "2       1.0 -0.984528 -1.394103 -1.429099 -1.424148 -1.402926 -1.303781\n",
      "3       1.0 -0.951445 -1.253942 -1.296086 -1.298223 -1.135952 -1.191306\n",
      "4       1.0 -0.898226 -1.172181 -1.163073 -1.161805 -1.137480 -1.016678\n",
      "5       1.0 -0.811924 -1.113781 -1.096566 -1.088349 -0.917063 -0.802492\n",
      "6       1.0 -0.875212 -1.043700 -1.018975 -1.067361 -0.925124 -0.914177\n",
      "7       1.0 -0.869459 -0.996980 -0.985722 -0.983412 -0.773430 -0.955426\n",
      "8       1.0 -0.855075 -0.926899 -0.919216 -0.920449 -0.946526 -0.962976\n",
      "9       1.0 -0.855075 -0.880179 -0.874878 -0.899462 -0.965844 -1.112191\n",
      "10      1.0 -0.783157 -0.786738 -0.764034 -0.742056 -0.753730 -0.670971\n",
      "11      1.0 -0.768773 -0.786738 -0.764034 -0.742056 -0.675556 -0.810437\n",
      "12      1.0 -0.740006 -0.786738 -0.764034 -0.742056 -0.753730 -0.607578\n",
      "13      1.0 -0.725623 -0.751698 -0.730780 -0.710575 -0.513474 -0.682805\n",
      "14      1.0 -0.754390 -0.669937 -0.653189 -0.637119 -0.608673 -0.754087\n",
      "15      1.0 -0.754390 -0.669937 -0.653189 -0.637119 -0.771971 -0.687876\n",
      "16      1.0 -0.725623 -0.669937 -0.653189 -0.637119 -0.608673 -0.687876\n",
      "17      1.0 -0.711239 -0.669937 -0.653189 -0.637119 -0.690322 -0.687876\n",
      "18      1.0 -0.783157 -0.669937 -0.653189 -0.637119 -0.812796 -0.423032\n",
      "19      1.0 -0.725623 -0.611537 -0.597767 -0.584650 -0.696924 -0.632090\n",
      "20      1.0 -0.668088 -0.611537 -0.597767 -0.584650 -0.371718 -0.632090\n",
      "21      1.0 -0.682472 -0.588176 -0.575598 -0.563663 -0.663152 -0.628709\n",
      "22      1.0 -0.668088 -0.553136 -0.542345 -0.532182 -0.918418 -0.630963\n",
      "23      1.0 -0.610554 -0.494736 -0.486923 -0.479713 -0.551345 -0.575176\n",
      "24      1.0 -0.452334 -0.436335 -0.431501 -0.427244 -0.197649 -0.576303\n",
      "25      1.0 -0.682472 -0.436335 -0.431501 -0.427244 -0.516601 -0.518827\n",
      "26      1.0 -0.558773 -0.366254 -0.364994 -0.353788 -0.392078 -0.326786\n",
      "27      1.0 -0.581786 -0.319534 -0.320657 -0.322307 -0.494191 -0.598562\n",
      "28      1.0 -0.532882 -0.261134 -0.254150 -0.269839 -0.451977 -0.285538\n",
      "29      1.0 -0.472471 -0.085932 -0.154390 -0.164901 -0.241080 -0.339070\n",
      "30      1.0 -0.236580 -0.062572 -0.065715 -0.091445  0.160216  0.220653\n",
      "31      1.0 -0.351649 -0.039212 -0.043546 -0.070458 -0.241358 -0.231442\n",
      "32      1.0 -0.337265 -0.039212 -0.043546 -0.070458 -0.281522 -0.231442\n",
      "33      1.0 -0.380416 -0.039212 -0.043546 -0.070458 -0.201193 -0.101161\n",
      "34      1.0 -0.380416  0.019189  0.011876 -0.017989 -0.014408 -0.305148\n",
      "35      1.0 -0.236580  0.135990  0.089467  0.055467 -0.096127 -0.062167\n",
      "36      1.0 -0.179045  0.241111  0.233565  0.212873 -0.085564  0.014582\n",
      "37      1.0  0.379039  0.556473  0.543929  0.464722  0.753300  0.716927\n",
      "38      1.0  0.499862  0.731675  0.732364  0.727065  0.831996  0.925139\n",
      "39      1.0  1.316851  0.790075  0.787786  0.811015  1.260010  1.718659\n",
      "40      1.0  0.870959  0.965277  0.954052  0.989408  1.048973  1.193647\n",
      "41      1.0  0.914110  0.965277  0.898630  0.915952  0.954504  1.124224\n",
      "42      1.0  0.914110  1.023677  1.009474  1.031383  1.032991  0.855885\n",
      "43      1.0  0.885342  1.035357  1.009474  1.020889  0.941509  0.913362\n",
      "44      1.0  1.489454  1.257279  1.231163  1.241257  1.137779  1.548313\n",
      "45      1.0  0.770273  1.257279  1.231163  1.241257  1.137779  0.708474\n",
      "46      1.0  1.259316  1.268959  1.231163  1.230764  1.587613  1.468296\n",
      "47      1.0  1.345618  1.303999  1.342007  1.335701  1.412954  1.330239\n",
      "48      1.0  1.489454  1.315680  1.342007  1.356688  1.343952  1.397070\n",
      "49      1.0  1.820278  1.315680  1.342007  1.346194  1.570067  1.530845\n",
      "50      1.0  1.259316  1.327360  1.342007  1.356688  1.137223  1.061788\n",
      "51      1.0  2.064799  1.549282  1.563696  1.577056  1.715784  1.196126\n",
      "52      1.0  1.777127  1.642722  1.674540  1.640019  1.414413  1.426485\n",
      "53      1.0  2.064799  1.677763  1.674540  1.671500  1.615825  1.504980\n",
      "54      1.0  1.777127  1.689443  1.729962  1.723968  1.647616  1.913798\n",
      "55      1.0  1.777127  1.794564  1.785384  1.786931  1.607591  1.606015\n"
     ]
    }
   ],
   "source": [
    "y = df_perch[\"Weight\"].values\n",
    "X = df_perch.iloc[:,0:].values\n",
    "\n",
    "print(gamma,mu)\n",
    "gamma = df_perch.iloc[:,0:].std().values\n",
    "print(gamma.shape)\n",
    "mu = df_perch.iloc[:,0:].mean().values\n",
    "\n",
    "lr = 0.3\n",
    "EPOCH = 10\n",
    "\n",
    "\n",
    "X = (X-mu)/gamma\n",
    "df = pd.DataFrame(X) \n",
    "df.insert(0, \"Control\", np.ones(56), True)\n",
    "\n",
    "print(df)\n",
    "n = df.iloc[:,0:].shape[1]\n",
    "m = df.iloc[0:].count()[0]\n",
    "X = df.to_numpy()\n",
    "\n",
    "theta = np.random.rand(n)"
   ]
  },
  {
   "cell_type": "code",
   "execution_count": 613,
   "metadata": {
    "scrolled": true
   },
   "outputs": [
    {
     "data": {
      "text/plain": [
       "array([382.23928571,  25.73571429,  27.89285714,  29.57142857,\n",
       "         7.86186964,   4.74572321])"
      ]
     },
     "execution_count": 613,
     "metadata": {},
     "output_type": "execute_result"
    }
   ],
   "source": [
    "mu"
   ]
  },
  {
   "cell_type": "code",
   "execution_count": 614,
   "metadata": {},
   "outputs": [],
   "source": [
    "def h(x):\n",
    "    print(x)\n",
    "    return x.dot(theta)"
   ]
  },
  {
   "cell_type": "code",
   "execution_count": 615,
   "metadata": {
    "scrolled": true
   },
   "outputs": [],
   "source": [
    "def J():\n",
    "    A = (X.dot(theta)-y).transpose()\n",
    "    B = (X.dot(theta)-y)\n",
    "    return A.dot(B)/2*m"
   ]
  },
  {
   "cell_type": "code",
   "execution_count": 616,
   "metadata": {},
   "outputs": [],
   "source": [
    "def Gradient():\n",
    "    return theta - lr*X.transpose().dot(X.dot(theta)-y)/m"
   ]
  },
  {
   "cell_type": "code",
   "execution_count": 617,
   "metadata": {},
   "outputs": [],
   "source": [
    "J_history = []\n",
    "for i in range(EPOCH):\n",
    "    theta = Gradient()\n",
    "    J_history.append(J())"
   ]
  },
  {
   "cell_type": "code",
   "execution_count": 618,
   "metadata": {},
   "outputs": [
    {
     "data": {
      "image/png": "[encoded data removed]",
      "text/plain": [
       "<Figure size 432x288 with 1 Axes>"
      ]
     },
     "metadata": {
      "needs_background": "light"
     },
     "output_type": "display_data"
    }
   ],
   "source": [
    "fig, ax = plt.subplots()\n",
    "t= np.arange(0,EPOCH,1)\n",
    "ax.plot(t,J_history)\n",
    "ax.set(xlabel='Epochs', ylabel='Cost function',\n",
    "       title='Cost function over epochs')\n",
    "ax.grid()"
   ]
  },
  {
   "cell_type": "code",
   "execution_count": 619,
   "metadata": {},
   "outputs": [],
   "source": [
    "# y = h(x)\n",
    "\n",
    "df = pd.DataFrame(X)\n",
    "G = df.iloc[:,0:].values"
   ]
  },
  {
   "cell_type": "code",
   "execution_count": 620,
   "metadata": {},
   "outputs": [
    {
     "name": "stdout",
     "output_type": "stream",
     "text": [
      "[ 1.         -1.08262401 -2.12994924 -2.16067108 -2.17969568 -1.99774712\n",
      " -1.88080352]\n",
      "[ 1.         -1.00754153 -1.54594435 -1.57319657 -1.56056617 -1.50576903\n",
      " -1.54766294]\n",
      "[ 1.         -0.98452774 -1.39410308 -1.42909905 -1.4241478  -1.40292615\n",
      " -1.3037806 ]\n",
      "[ 1.         -0.95144542 -1.25394191 -1.29608595 -1.29822315 -1.13595159\n",
      " -1.19130621]\n",
      "[ 1.         -0.89822604 -1.17218123 -1.16307285 -1.16180478 -1.13748034\n",
      " -1.01667788]\n",
      "[ 1.         -0.81192434 -1.11378074 -1.0965663  -1.08834874 -0.91706303\n",
      " -0.80249193]\n",
      "[ 1.         -0.87521225 -1.04370015 -1.01897533 -1.0673613  -0.92512369\n",
      " -0.91417743]\n",
      "[ 1.         -0.86945881 -0.99697976 -0.98572206 -0.98341153 -0.77343044\n",
      " -0.95542555]\n",
      "[ 1.         -0.85507519 -0.92689918 -0.91921551 -0.92044921 -0.94652613\n",
      " -0.96297643]\n",
      "[ 1.         -0.85507519 -0.88017879 -0.87487781 -0.89946177 -0.96584391\n",
      " -1.11219096]\n",
      "[ 1.         -0.78315711 -0.78673801 -0.76403356 -0.74205596 -0.75373047\n",
      " -0.67097128]\n",
      "[ 1.         -0.76877349 -0.78673801 -0.76403356 -0.74205596 -0.67555599\n",
      " -0.81043727]\n",
      "[ 1.         -0.74000626 -0.78673801 -0.76403356 -0.74205596 -0.75373047\n",
      " -0.60757765]\n",
      "[ 1.         -0.72562264 -0.75169771 -0.73078029 -0.7105748  -0.51347422\n",
      " -0.68280476]\n",
      "[ 1.         -0.75438987 -0.66993703 -0.65318932 -0.63711875 -0.60867337\n",
      " -0.75408737]\n",
      "[ 1.         -0.75438987 -0.66993703 -0.65318932 -0.63711875 -0.77197119\n",
      " -0.68787625]\n",
      "[ 1.         -0.72562264 -0.66993703 -0.65318932 -0.63711875 -0.60867337\n",
      " -0.68787625]\n",
      "[ 1.         -0.71123902 -0.66993703 -0.65318932 -0.63711875 -0.69032228\n",
      " -0.68787625]\n",
      "[ 1.         -0.78315711 -0.66993703 -0.65318932 -0.63711875 -0.81279564\n",
      " -0.42303174]\n",
      "[ 1.         -0.72562264 -0.61153654 -0.59776719 -0.58465015 -0.69692368\n",
      " -0.63208985]\n",
      "[ 1.         -0.66808817 -0.61153654 -0.59776719 -0.58465015 -0.37171782\n",
      " -0.63208985]\n",
      "[ 1.         -0.68247179 -0.58817635 -0.57559834 -0.56366271 -0.6631523\n",
      " -0.62870886]\n",
      "[ 1.         -0.66808817 -0.55313605 -0.54234507 -0.53218155 -0.91841806\n",
      " -0.63096285]\n",
      "[ 1.         -0.61055371 -0.49473556 -0.48692294 -0.47971294 -0.55134541\n",
      " -0.57517646]\n",
      "[ 1.         -0.45233392 -0.43633508 -0.43150082 -0.42724434 -0.1976493\n",
      " -0.57630346]\n",
      "[ 1.         -0.68247179 -0.43633508 -0.43150082 -0.42724434 -0.5166012\n",
      " -0.51882656]\n",
      "[ 1.         -0.55877269 -0.36625449 -0.36499427 -0.3537883  -0.39207793\n",
      " -0.32678612]\n",
      "[ 1.         -0.58178647 -0.3195341  -0.32065657 -0.32230713 -0.49419118\n",
      " -0.59856166]\n",
      "[ 1.         -0.53288218 -0.26113361 -0.25415002 -0.26983853 -0.45197696\n",
      " -0.285538  ]\n",
      "[ 1.         -0.47247099 -0.08593215 -0.1543902  -0.16490132 -0.24107957\n",
      " -0.3390704 ]\n",
      "[ 1.         -0.23657967 -0.06257195 -0.0657148  -0.09144528  0.16021613\n",
      "  0.22065311]\n",
      "[ 1.         -0.35164861 -0.03921176 -0.04354595 -0.07045784 -0.24135752\n",
      " -0.2314421 ]\n",
      "[ 1.         -0.33726499 -0.03921176 -0.04354595 -0.07045784 -0.28152183\n",
      " -0.2314421 ]\n",
      "[ 1.         -0.38041584 -0.03921176 -0.04354595 -0.07045784 -0.20119321\n",
      " -0.10116114]\n",
      "[ 1.         -0.38041584  0.01918873  0.01187617 -0.01798924 -0.0144083\n",
      " -0.30514776]\n",
      "[ 1.         -0.23657967  0.13598971  0.08946714  0.05546681 -0.0961267\n",
      " -0.06216702]\n",
      "[ 1.         -0.17904521  0.24111059  0.23356466  0.21287262 -0.08556446\n",
      "  0.01458154]\n",
      "[1.         0.37903912 0.55647322 0.54392856 0.46472191 0.75329989\n",
      " 0.71692663]\n",
      "[1.         0.4998615  0.73167469 0.73236378 0.72706493 0.83199554\n",
      " 0.92513949]\n",
      "[1.         1.31685093 0.79007518 0.7877859  0.81101469 1.26000954\n",
      " 1.71865871]\n",
      "[1.         0.87095881 0.96527664 0.95405227 0.98940794 1.04897317\n",
      " 1.19364674]\n",
      "[1.         0.91410966 0.96527664 0.89863015 0.9159519  0.95450365\n",
      " 1.12422367]\n",
      "[1.         0.91410966 1.02367713 1.0094744  1.03138283 1.03299083\n",
      " 0.85588547]\n",
      "[1.         0.88534243 1.03535723 1.0094744  1.02088911 0.94150931\n",
      " 0.91336236]\n",
      "[1.         1.48945433 1.25727908 1.23116289 1.24125724 1.13777939\n",
      " 1.54831298]\n",
      "[1.         0.7702735  1.25727908 1.23116289 1.24125724 1.13777939\n",
      " 0.70847415]\n",
      "[1.         1.25931646 1.26895918 1.23116289 1.23076352 1.58761275\n",
      " 1.46829613]\n",
      "[1.         1.34561816 1.30399947 1.34200714 1.33570073 1.41295358\n",
      " 1.33023889]\n",
      "[1.         1.48945433 1.31567957 1.34200714 1.35668817 1.34395156\n",
      " 1.39706986]\n",
      "[1.         1.82027751 1.31567957 1.34200714 1.34619445 1.57006692\n",
      " 1.53084451]\n",
      "[1.         1.25931646 1.32735967 1.34200714 1.35668817 1.13722348\n",
      " 1.06178799]\n",
      "[1.         2.064799   1.54928152 1.56369563 1.5770563  1.71578416\n",
      " 1.19612614]\n",
      "[1.         1.77712666 1.64272231 1.67453988 1.64001862 1.41441283\n",
      " 1.42648451]\n",
      "[1.         2.064799   1.6777626  1.67453988 1.67149979 1.61582505\n",
      " 1.50497991]\n",
      "[1.         1.77712666 1.6894427  1.729962   1.72396839 1.64761601\n",
      " 1.9137984 ]\n",
      "[1.         1.77712666 1.79456358 1.78538413 1.78693071 1.60759067\n",
      " 1.60601527]\n"
     ]
    }
   ],
   "source": [
    "y_history = []\n",
    "for i in range(m):\n",
    "    y_history.append(h(G[i]))"
   ]
  },
  {
   "cell_type": "code",
   "execution_count": 621,
   "metadata": {
    "scrolled": true
   },
   "outputs": [
    {
     "data": {
      "image/png": "[encoded data removed]",
      "text/plain": [
       "<Figure size 432x288 with 1 Axes>"
      ]
     },
     "metadata": {
      "needs_background": "light"
     },
     "output_type": "display_data"
    }
   ],
   "source": [
    "fig, ax = plt.subplots()\n",
    "t= np.arange(0,m,1)\n",
    "ax.plot(t,y_history)\n",
    "ax.set(xlabel='X', ylabel='Cost function',\n",
    "       title='Weight prediction over Perch Fish Lengths')\n",
    "ax.grid()"
   ]
  },
  {
   "cell_type": "code",
   "execution_count": 622,
   "metadata": {},
   "outputs": [
    {
     "name": "stdout",
     "output_type": "stream",
     "text": [
      "[ 1.         -0.95144542 -1.25394191 -1.29608595 -1.29822315 -1.13595159\n",
      " -1.19130621]\n",
      "-4.2530375574592085\n"
     ]
    }
   ],
   "source": [
    "print(h(G[3]))"
   ]
  },
  {
   "cell_type": "code",
   "execution_count": 623,
   "metadata": {},
   "outputs": [
    {
     "data": {
      "text/plain": [
       "6.379658018078463e-18"
      ]
     },
     "execution_count": 623,
     "metadata": {},
     "output_type": "execute_result"
    }
   ],
   "source": [
    "## Normal equation\n",
    "theta = inv(X.transpose().dot(X)).dot(X.transpose()).dot(y)\n",
    "J()\n",
    "## Doesn't work either"
   ]
  },
  {
   "cell_type": "code",
   "execution_count": 624,
   "metadata": {},
   "outputs": [
    {
     "data": {
      "text/plain": [
       "51.5"
      ]
     },
     "execution_count": 624,
     "metadata": {},
     "output_type": "execute_result"
    }
   ],
   "source": [
    "y[3]"
   ]
  }
 ],
 "metadata": {
  "kernelspec": {
   "display_name": "Python 3",
   "language": "python",
   "name": "python3"
  },
  "language_info": {
   "codemirror_mode": {
    "name": "ipython",
    "version": 3
   },
   "file_extension": ".py",
   "mimetype": "text/x-python",
   "name": "python",
   "nbconvert_exporter": "python",
   "pygments_lexer": "ipython3",
   "version": "3.6.9"
  }
 },
 "nbformat": 4,
 "nbformat_minor": 4
}
